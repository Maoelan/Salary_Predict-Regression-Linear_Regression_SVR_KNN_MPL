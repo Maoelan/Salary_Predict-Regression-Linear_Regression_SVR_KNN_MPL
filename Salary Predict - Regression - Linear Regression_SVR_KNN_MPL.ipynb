{
 "cells": [
  {
   "cell_type": "raw",
   "id": "ed45fea2",
   "metadata": {},
   "source": [
    "NAMA : MAULANA MUHAMMAD"
   ]
  },
  {
   "cell_type": "code",
   "execution_count": 1031,
   "id": "bd8e1654",
   "metadata": {
    "scrolled": true
   },
   "outputs": [],
   "source": [
    "import pandas as pd\n",
    "import numpy as np\n",
    "import matplotlib.pyplot as plt\n",
    "from sklearn.model_selection import train_test_split\n",
    "from sklearn.linear_model import LinearRegression\n",
    "from sklearn.metrics import mean_squared_error\n",
    "from math import sqrt\n",
    "from sklearn import svm\n",
    "from sklearn import neighbors\n",
    "from sklearn.neural_network import MLPRegressor\n",
    "from sklearn.metrics import r2_score,mean_squared_error"
   ]
  },
  {
   "cell_type": "markdown",
   "id": "dd067016",
   "metadata": {},
   "source": [
    "dataset : https://www.kaggle.com/datasets/karthickveerakumar/salary-data-simple-linear-regression"
   ]
  },
  {
   "cell_type": "code",
   "execution_count": 1032,
   "id": "c50e34bf",
   "metadata": {},
   "outputs": [
    {
     "data": {
      "text/html": [
       "<div>\n",
       "<style scoped>\n",
       "    .dataframe tbody tr th:only-of-type {\n",
       "        vertical-align: middle;\n",
       "    }\n",
       "\n",
       "    .dataframe tbody tr th {\n",
       "        vertical-align: top;\n",
       "    }\n",
       "\n",
       "    .dataframe thead th {\n",
       "        text-align: right;\n",
       "    }\n",
       "</style>\n",
       "<table border=\"1\" class=\"dataframe\">\n",
       "  <thead>\n",
       "    <tr style=\"text-align: right;\">\n",
       "      <th></th>\n",
       "      <th>YearsExperience</th>\n",
       "      <th>Salary</th>\n",
       "    </tr>\n",
       "  </thead>\n",
       "  <tbody>\n",
       "    <tr>\n",
       "      <th>0</th>\n",
       "      <td>1.1</td>\n",
       "      <td>39343.0</td>\n",
       "    </tr>\n",
       "    <tr>\n",
       "      <th>1</th>\n",
       "      <td>1.3</td>\n",
       "      <td>46205.0</td>\n",
       "    </tr>\n",
       "    <tr>\n",
       "      <th>2</th>\n",
       "      <td>1.5</td>\n",
       "      <td>37731.0</td>\n",
       "    </tr>\n",
       "    <tr>\n",
       "      <th>3</th>\n",
       "      <td>2.0</td>\n",
       "      <td>43525.0</td>\n",
       "    </tr>\n",
       "    <tr>\n",
       "      <th>4</th>\n",
       "      <td>2.2</td>\n",
       "      <td>39891.0</td>\n",
       "    </tr>\n",
       "    <tr>\n",
       "      <th>5</th>\n",
       "      <td>2.9</td>\n",
       "      <td>56642.0</td>\n",
       "    </tr>\n",
       "    <tr>\n",
       "      <th>6</th>\n",
       "      <td>3.0</td>\n",
       "      <td>60150.0</td>\n",
       "    </tr>\n",
       "    <tr>\n",
       "      <th>7</th>\n",
       "      <td>3.2</td>\n",
       "      <td>54445.0</td>\n",
       "    </tr>\n",
       "    <tr>\n",
       "      <th>8</th>\n",
       "      <td>3.2</td>\n",
       "      <td>64445.0</td>\n",
       "    </tr>\n",
       "    <tr>\n",
       "      <th>9</th>\n",
       "      <td>3.7</td>\n",
       "      <td>57189.0</td>\n",
       "    </tr>\n",
       "    <tr>\n",
       "      <th>10</th>\n",
       "      <td>3.9</td>\n",
       "      <td>63218.0</td>\n",
       "    </tr>\n",
       "    <tr>\n",
       "      <th>11</th>\n",
       "      <td>4.0</td>\n",
       "      <td>55794.0</td>\n",
       "    </tr>\n",
       "    <tr>\n",
       "      <th>12</th>\n",
       "      <td>4.0</td>\n",
       "      <td>56957.0</td>\n",
       "    </tr>\n",
       "    <tr>\n",
       "      <th>13</th>\n",
       "      <td>4.1</td>\n",
       "      <td>57081.0</td>\n",
       "    </tr>\n",
       "    <tr>\n",
       "      <th>14</th>\n",
       "      <td>4.5</td>\n",
       "      <td>61111.0</td>\n",
       "    </tr>\n",
       "    <tr>\n",
       "      <th>15</th>\n",
       "      <td>4.9</td>\n",
       "      <td>67938.0</td>\n",
       "    </tr>\n",
       "    <tr>\n",
       "      <th>16</th>\n",
       "      <td>5.1</td>\n",
       "      <td>66029.0</td>\n",
       "    </tr>\n",
       "    <tr>\n",
       "      <th>17</th>\n",
       "      <td>5.3</td>\n",
       "      <td>83088.0</td>\n",
       "    </tr>\n",
       "    <tr>\n",
       "      <th>18</th>\n",
       "      <td>5.9</td>\n",
       "      <td>81363.0</td>\n",
       "    </tr>\n",
       "    <tr>\n",
       "      <th>19</th>\n",
       "      <td>6.0</td>\n",
       "      <td>93940.0</td>\n",
       "    </tr>\n",
       "    <tr>\n",
       "      <th>20</th>\n",
       "      <td>6.8</td>\n",
       "      <td>91738.0</td>\n",
       "    </tr>\n",
       "    <tr>\n",
       "      <th>21</th>\n",
       "      <td>7.1</td>\n",
       "      <td>98273.0</td>\n",
       "    </tr>\n",
       "    <tr>\n",
       "      <th>22</th>\n",
       "      <td>7.9</td>\n",
       "      <td>101302.0</td>\n",
       "    </tr>\n",
       "    <tr>\n",
       "      <th>23</th>\n",
       "      <td>8.2</td>\n",
       "      <td>113812.0</td>\n",
       "    </tr>\n",
       "    <tr>\n",
       "      <th>24</th>\n",
       "      <td>8.7</td>\n",
       "      <td>109431.0</td>\n",
       "    </tr>\n",
       "    <tr>\n",
       "      <th>25</th>\n",
       "      <td>9.0</td>\n",
       "      <td>105582.0</td>\n",
       "    </tr>\n",
       "    <tr>\n",
       "      <th>26</th>\n",
       "      <td>9.5</td>\n",
       "      <td>116969.0</td>\n",
       "    </tr>\n",
       "    <tr>\n",
       "      <th>27</th>\n",
       "      <td>9.6</td>\n",
       "      <td>112635.0</td>\n",
       "    </tr>\n",
       "    <tr>\n",
       "      <th>28</th>\n",
       "      <td>10.3</td>\n",
       "      <td>122391.0</td>\n",
       "    </tr>\n",
       "    <tr>\n",
       "      <th>29</th>\n",
       "      <td>10.5</td>\n",
       "      <td>121872.0</td>\n",
       "    </tr>\n",
       "  </tbody>\n",
       "</table>\n",
       "</div>"
      ],
      "text/plain": [
       "    YearsExperience    Salary\n",
       "0               1.1   39343.0\n",
       "1               1.3   46205.0\n",
       "2               1.5   37731.0\n",
       "3               2.0   43525.0\n",
       "4               2.2   39891.0\n",
       "5               2.9   56642.0\n",
       "6               3.0   60150.0\n",
       "7               3.2   54445.0\n",
       "8               3.2   64445.0\n",
       "9               3.7   57189.0\n",
       "10              3.9   63218.0\n",
       "11              4.0   55794.0\n",
       "12              4.0   56957.0\n",
       "13              4.1   57081.0\n",
       "14              4.5   61111.0\n",
       "15              4.9   67938.0\n",
       "16              5.1   66029.0\n",
       "17              5.3   83088.0\n",
       "18              5.9   81363.0\n",
       "19              6.0   93940.0\n",
       "20              6.8   91738.0\n",
       "21              7.1   98273.0\n",
       "22              7.9  101302.0\n",
       "23              8.2  113812.0\n",
       "24              8.7  109431.0\n",
       "25              9.0  105582.0\n",
       "26              9.5  116969.0\n",
       "27              9.6  112635.0\n",
       "28             10.3  122391.0\n",
       "29             10.5  121872.0"
      ]
     },
     "execution_count": 1032,
     "metadata": {},
     "output_type": "execute_result"
    }
   ],
   "source": [
    "salary = pd.read_csv(\"Salary_Data.csv\")\n",
    "salary"
   ]
  },
  {
   "cell_type": "code",
   "execution_count": 1033,
   "id": "03a4d823",
   "metadata": {},
   "outputs": [
    {
     "name": "stdout",
     "output_type": "stream",
     "text": [
      "[[ 1.1]\n",
      " [ 1.3]\n",
      " [ 1.5]\n",
      " [ 2. ]\n",
      " [ 2.2]\n",
      " [ 2.9]\n",
      " [ 3. ]\n",
      " [ 3.2]\n",
      " [ 3.2]\n",
      " [ 3.7]\n",
      " [ 3.9]\n",
      " [ 4. ]\n",
      " [ 4. ]\n",
      " [ 4.1]\n",
      " [ 4.5]\n",
      " [ 4.9]\n",
      " [ 5.1]\n",
      " [ 5.3]\n",
      " [ 5.9]\n",
      " [ 6. ]\n",
      " [ 6.8]\n",
      " [ 7.1]\n",
      " [ 7.9]\n",
      " [ 8.2]\n",
      " [ 8.7]\n",
      " [ 9. ]\n",
      " [ 9.5]\n",
      " [ 9.6]\n",
      " [10.3]\n",
      " [10.5]]\n",
      "[ 39343.  46205.  37731.  43525.  39891.  56642.  60150.  54445.  64445.\n",
      "  57189.  63218.  55794.  56957.  57081.  61111.  67938.  66029.  83088.\n",
      "  81363.  93940.  91738.  98273. 101302. 113812. 109431. 105582. 116969.\n",
      " 112635. 122391. 121872.]\n"
     ]
    }
   ],
   "source": [
    "x = salary.iloc[:,:-1].values\n",
    "y = salary.iloc[:,1].values\n",
    "print(x)\n",
    "print(y)"
   ]
  },
  {
   "cell_type": "code",
   "execution_count": 1034,
   "id": "cd25f7a2",
   "metadata": {},
   "outputs": [
    {
     "data": {
      "text/plain": [
       "<bound method NDFrame.head of     YearsExperience    Salary\n",
       "0               1.1   39343.0\n",
       "1               1.3   46205.0\n",
       "2               1.5   37731.0\n",
       "3               2.0   43525.0\n",
       "4               2.2   39891.0\n",
       "5               2.9   56642.0\n",
       "6               3.0   60150.0\n",
       "7               3.2   54445.0\n",
       "8               3.2   64445.0\n",
       "9               3.7   57189.0\n",
       "10              3.9   63218.0\n",
       "11              4.0   55794.0\n",
       "12              4.0   56957.0\n",
       "13              4.1   57081.0\n",
       "14              4.5   61111.0\n",
       "15              4.9   67938.0\n",
       "16              5.1   66029.0\n",
       "17              5.3   83088.0\n",
       "18              5.9   81363.0\n",
       "19              6.0   93940.0\n",
       "20              6.8   91738.0\n",
       "21              7.1   98273.0\n",
       "22              7.9  101302.0\n",
       "23              8.2  113812.0\n",
       "24              8.7  109431.0\n",
       "25              9.0  105582.0\n",
       "26              9.5  116969.0\n",
       "27              9.6  112635.0\n",
       "28             10.3  122391.0\n",
       "29             10.5  121872.0>"
      ]
     },
     "execution_count": 1034,
     "metadata": {},
     "output_type": "execute_result"
    }
   ],
   "source": [
    "dataframe = pd.DataFrame(salary)\n",
    "dataframe.head"
   ]
  },
  {
   "cell_type": "code",
   "execution_count": 1035,
   "id": "96ebe555",
   "metadata": {},
   "outputs": [],
   "source": [
    "x_train, x_test, y_train, y_test = train_test_split(x, y, test_size = 0.2)"
   ]
  },
  {
   "cell_type": "markdown",
   "id": "97992d08",
   "metadata": {},
   "source": [
    "# Support Vector Regression ( SVR )"
   ]
  },
  {
   "cell_type": "code",
   "execution_count": 1036,
   "id": "54d0e9d5",
   "metadata": {},
   "outputs": [
    {
     "data": {
      "text/plain": [
       "SVR(kernel='linear')"
      ]
     },
     "execution_count": 1036,
     "metadata": {},
     "output_type": "execute_result"
    }
   ],
   "source": [
    "regr = svm.SVR(kernel='linear')\n",
    "regr.fit(x_train, y_train)"
   ]
  },
  {
   "cell_type": "code",
   "execution_count": 1037,
   "id": "d61db85c",
   "metadata": {
    "scrolled": true
   },
   "outputs": [
    {
     "name": "stdout",
     "output_type": "stream",
     "text": [
      "[112635. 109431.  63218.  64445.  66029.  56642.]\n",
      "[64802.8200002 64751.7000002 64479.0600002 64439.3000002 64547.2200002\n",
      " 64422.2600002]\n"
     ]
    }
   ],
   "source": [
    "y_pred = regr.predict(x_test)\n",
    "print(y_test)\n",
    "print(y_pred)"
   ]
  },
  {
   "cell_type": "code",
   "execution_count": 1038,
   "id": "9c95ad44",
   "metadata": {},
   "outputs": [
    {
     "name": "stdout",
     "output_type": "stream",
     "text": [
      "[112635. 109431.  63218.  64445.  66029.  56642.]\n",
      "[64802.8200002 64751.7000002 64479.0600002 64439.3000002 64547.2200002\n",
      " 64422.2600002]\n",
      "RMSE SVR =  26921.10607701069\n",
      "R square : -0.3648790175147565\n"
     ]
    }
   ],
   "source": [
    "#evaluasi model SVR\n",
    "\n",
    "rsq = r2_score(y_test,y_pred)\n",
    "\n",
    "print(y_test)\n",
    "print(y_pred)\n",
    "\n",
    "print(\"RMSE SVR = \", sqrt(mean_squared_error(y_test, y_pred)))\n",
    "print('R square :',rsq)"
   ]
  },
  {
   "cell_type": "raw",
   "id": "cb55f722",
   "metadata": {},
   "source": [
    "Pada evaluasi SVR regression diatas diketahui RMSE adalah svr dan r square adalah -0.-0.3648790175147565 yang berarti data yang digunakan pada model regresi SVR tidak efektif"
   ]
  },
  {
   "cell_type": "markdown",
   "id": "d9f90e48",
   "metadata": {},
   "source": [
    "# Linear Regression"
   ]
  },
  {
   "cell_type": "code",
   "execution_count": 1039,
   "id": "fc2999f5",
   "metadata": {},
   "outputs": [
    {
     "data": {
      "text/plain": [
       "LinearRegression()"
      ]
     },
     "execution_count": 1039,
     "metadata": {},
     "output_type": "execute_result"
    }
   ],
   "source": [
    "regressor = LinearRegression()\n",
    "regressor.fit(x_train, y_train)"
   ]
  },
  {
   "cell_type": "code",
   "execution_count": 1040,
   "id": "e26da9c3",
   "metadata": {},
   "outputs": [
    {
     "name": "stdout",
     "output_type": "stream",
     "text": [
      "[117266.23544019 108587.7901767   62302.74877143  55552.84689983\n",
      "  73874.00912275  52660.031812  ]\n"
     ]
    }
   ],
   "source": [
    "y_pred = regressor.predict(x_test)\n",
    "print(y_pred)"
   ]
  },
  {
   "cell_type": "code",
   "execution_count": 1041,
   "id": "2a3ef321",
   "metadata": {},
   "outputs": [
    {
     "name": "stdout",
     "output_type": "stream",
     "text": [
      "[112635. 109431.  63218.  64445.  66029.  56642.]\n",
      "[117266.23544019 108587.7901767   62302.74877143  55552.84689983\n",
      "  73874.00912275  52660.031812  ]\n",
      "RMSE LINEAR REGRESSION =  5469.12020443082\n",
      "R square : 0.9436695401952517\n"
     ]
    }
   ],
   "source": [
    "#evaluasi model linear regression\n",
    "\n",
    "rsq = r2_score(y_test,y_pred)\n",
    "\n",
    "print(y_test)\n",
    "print(y_pred)\n",
    "\n",
    "print(\"RMSE LINEAR REGRESSION = \", sqrt(mean_squared_error(y_test, y_pred)))\n",
    "print('R square :',rsq)"
   ]
  },
  {
   "cell_type": "raw",
   "id": "27ead2ce",
   "metadata": {},
   "source": [
    "Pada hasil diatas diperoleh rmse adalah 5469 dengan R square 0.9436695401952517 yang berarti prediksi menggunakan linear regression bisa dikatakan efektif"
   ]
  },
  {
   "cell_type": "code",
   "execution_count": 1042,
   "id": "64a6c5af",
   "metadata": {},
   "outputs": [
    {
     "data": {
      "image/png": "[encoded data removed]",
      "text/plain": [
       "<Figure size 432x288 with 1 Axes>"
      ]
     },
     "metadata": {
      "needs_background": "light"
     },
     "output_type": "display_data"
    }
   ],
   "source": [
    "#visualisasi data\n",
    "\n",
    "plt.scatter(salary['YearsExperience'], salary['Salary'], color = 'red')\n",
    "plt.xlabel('YearsExperience')\n",
    "plt.xlabel('Salary')\n",
    "plt.title('Grafik nilai salary berdasarkan yearsexperience')\n",
    "plt.show()"
   ]
  },
  {
   "cell_type": "code",
   "execution_count": 1043,
   "id": "5e085c92",
   "metadata": {},
   "outputs": [
    {
     "data": {
      "image/png": "[encoded data removed]",
      "text/plain": [
       "<Figure size 432x288 with 1 Axes>"
      ]
     },
     "metadata": {
      "needs_background": "light"
     },
     "output_type": "display_data"
    }
   ],
   "source": [
    "#visualisasi data hasil machine learning\n",
    "\n",
    "plt.scatter(x_train, y_train, color = 'red')\n",
    "\n",
    "plt.plot(x_train, regressor.predict(x_train), color = 'black')\n",
    "\n",
    "plt.xlabel('YearsExperience')\n",
    "plt.xlabel('Salary')\n",
    "plt.title('Grafik nilai salary berdasarkan yearsexperience')\n",
    "\n",
    "plt.show()"
   ]
  },
  {
   "cell_type": "code",
   "execution_count": 1044,
   "id": "671f3349",
   "metadata": {},
   "outputs": [
    {
     "data": {
      "image/png": "[encoded data removed]",
      "text/plain": [
       "<Figure size 432x288 with 1 Axes>"
      ]
     },
     "metadata": {
      "needs_background": "light"
     },
     "output_type": "display_data"
    }
   ],
   "source": [
    "plt.scatter(x_test, y_test, color = 'red')\n",
    "\n",
    "plt.plot(x_test, regressor.predict(x_test), color = 'black')\n",
    "\n",
    "plt.xlabel('YearsExperience')\n",
    "plt.xlabel('Salary')\n",
    "plt.title('Grafik nilai salary berdasarkan yearsexperience')\n",
    "\n",
    "plt.show()"
   ]
  },
  {
   "cell_type": "markdown",
   "id": "c31d5a9e",
   "metadata": {},
   "source": [
    "# KNNRegression"
   ]
  },
  {
   "cell_type": "code",
   "execution_count": 1045,
   "id": "a35ab6c3",
   "metadata": {},
   "outputs": [],
   "source": [
    "n_neighbors = 3\n",
    "regressorknn = neighbors.KNeighborsRegressor(n_neighbors, weights = 'uniform')\n",
    "y_pred = regressorknn.fit(x_train, y_train)"
   ]
  },
  {
   "cell_type": "code",
   "execution_count": 1046,
   "id": "006d606b",
   "metadata": {},
   "outputs": [
    {
     "name": "stdout",
     "output_type": "stream",
     "text": [
      "[112635. 109431.  63218.  64445.  66029.  56642.]\n",
      "[114980.66666667 106898.66666667  56646.66666667  57261.33333333\n",
      "  70712.33333333  51495.33333333]\n"
     ]
    }
   ],
   "source": [
    "y_pred = regressorknn.predict(x_test)\n",
    "print(y_test)\n",
    "print(y_pred)"
   ]
  },
  {
   "cell_type": "code",
   "execution_count": 1047,
   "id": "def2d334",
   "metadata": {},
   "outputs": [
    {
     "name": "stdout",
     "output_type": "stream",
     "text": [
      "[112635. 109431.  63218.  64445.  66029.  56642.]\n",
      "[114980.66666667 106898.66666667  56646.66666667  57261.33333333\n",
      "  70712.33333333  51495.33333333]\n",
      "RMSE SVR =  5084.685202754552\n",
      "R square : 0.9513103671323571\n"
     ]
    }
   ],
   "source": [
    "#evaluasi model KNN\n",
    "\n",
    "rsq = r2_score(y_test,y_pred)\n",
    "\n",
    "print(y_test)\n",
    "print(y_pred)\n",
    "\n",
    "print(\"RMSE SVR = \", sqrt(mean_squared_error(y_test, y_pred)))\n",
    "print('R square :',rsq)"
   ]
  },
  {
   "cell_type": "raw",
   "id": "65bb409b",
   "metadata": {},
   "source": [
    "Pada hasil diatas diperoleh rmse 5084 dengan nilai r square 0.9513103671323571 yang berarti prediksi menggunakan regresi knn bisa dikatakan efektif"
   ]
  },
  {
   "cell_type": "markdown",
   "id": "2e565997",
   "metadata": {},
   "source": [
    "# MLP Regression"
   ]
  },
  {
   "cell_type": "code",
   "execution_count": 1048,
   "id": "a4183a2f",
   "metadata": {},
   "outputs": [],
   "source": [
    "regressormlp = MLPRegressor(random_state = 1, max_iter = 30000).fit(x_train, y_train)\n",
    "y_pred = regressormlp.predict(x_test)"
   ]
  },
  {
   "cell_type": "code",
   "execution_count": 1049,
   "id": "79c51236",
   "metadata": {},
   "outputs": [
    {
     "name": "stdout",
     "output_type": "stream",
     "text": [
      "[112635. 109431.  63218.  64445.  66029.  56642.]\n",
      "[117266.36081623 108587.87815341  62302.63728507  55552.70632511\n",
      "  73873.94750216  52659.87877083]\n",
      "RMSE MLP =  5469.180681389382\n",
      "R square : 0.9436682943957112\n"
     ]
    }
   ],
   "source": [
    "#evaluasi model MLP\n",
    "\n",
    "rsq = r2_score(y_test,y_pred)\n",
    "\n",
    "print(y_test)\n",
    "print(y_pred)\n",
    "\n",
    "print(\"RMSE MLP = \", sqrt(mean_squared_error(y_test, y_pred)))\n",
    "print('R square :',rsq)"
   ]
  },
  {
   "cell_type": "raw",
   "id": "8403f616",
   "metadata": {},
   "source": [
    "Pada hasil diatas diperoleh rmse 5469 dengan nilai r square 0.9436682943957112 yang berarti prediksi menggunakan MLP regresi bisa dikatakan efektif"
   ]
  }
 ],
 "metadata": {
  "kernelspec": {
   "display_name": "Python 3 (ipykernel)",
   "language": "python",
   "name": "python3"
  },
  "language_info": {
   "codemirror_mode": {
    "name": "ipython",
    "version": 3
   },
   "file_extension": ".py",
   "mimetype": "text/x-python",
   "name": "python",
   "nbconvert_exporter": "python",
   "pygments_lexer": "ipython3",
   "version": "3.9.12"
  }
 },
 "nbformat": 4,
 "nbformat_minor": 5
}
